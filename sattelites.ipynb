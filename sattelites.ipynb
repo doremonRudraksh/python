{
 "cells": [
  {
   "cell_type": "code",
   "execution_count": null,
   "metadata": {},
   "outputs": [
    {
     "ename": "",
     "evalue": "",
     "output_type": "error",
     "traceback": [
      "\u001b[1;31mThe kernel failed to start due to the missing module 'matplotlib.pyplot'. Consider installing this module.\n",
      "\u001b[1;31mClick <a href='https://aka.ms/kernelFailuresMissingModule'>here</a> for more info."
     ]
    }
   ],
   "source": [
    "import numpy as np\n",
    "import pandas as pd\n",
    "from matplotlib import pyplot as plt\n",
    "\n",
    "dataframe = pd.read_csv(\"csv_files/country_sattelites.csv\")\n",
    "\n",
    "top5 = dataframe.head(5)\n",
    "print(top5)\n",
    "name = top5[\"Country/Organization Name\"]\n",
    "satellites = top5[\"Satellites In Orbit\"]\n",
    "\n",
    "plt.xlabel(\"Country/Organization Name\")\n",
    "plt.xticks(rotation = \"vertical\")\n",
    "plt.ylabel(\"Satellites In Orbit\")\n",
    "\n",
    "label =  name\n",
    "value = satellites\n",
    "plt.bar(label,value,width = 0.4,colour = (\"red\",\"black\",\"yellow\",\"green\",\"violet\"))\n",
    "\n",
    "dataframe = pd.read_csv(\"csv_files/country_sattelites.csv\")\n",
    "df = dataframe.dropna()\n",
    "\n",
    "least_20 = df.tale(20)\n",
    "print(least_20)\n",
    "name = least_20[\"Country/Organization Name\"]\n",
    "satellites = least_20[\"Satellites In Orbit\"]\n",
    "\n",
    "plt.xlabel(\"Country/Organization Name\")\n",
    "plt.xticks(rotation = \"vertical\")\n",
    "plt.ylabel(\"Satellites In Orbit\")\n",
    "\n",
    "label =  name\n",
    "value = satellites\n",
    "plt.bar(label,value,width = 0.4,colour = (\"red\",\"black\",\"yellow\",\"green\",\"violet\"))\n"
   ]
  }
 ],
 "metadata": {
  "kernelspec": {
   "display_name": "Python 3",
   "language": "python",
   "name": "python3"
  },
  "language_info": {
   "name": "python",
   "version": "3.10.11"
  },
  "orig_nbformat": 4
 },
 "nbformat": 4,
 "nbformat_minor": 2
}
